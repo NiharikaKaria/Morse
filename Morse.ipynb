{
 "cells": [
  {
   "cell_type": "code",
   "execution_count": 1,
   "metadata": {},
   "outputs": [],
   "source": [
    "import winsound\n",
    "import time"
   ]
  },
  {
   "cell_type": "code",
   "execution_count": 2,
   "metadata": {},
   "outputs": [],
   "source": [
    "class CodesLookup:\n",
    "    def __init__(self):\n",
    "        self.codes = [\".-\",\"-...\",\"-.-.\",\"-..\",\".\",\"..-.\",\"--.\",\"....\",\"..\",\".---\", \"-.-\",\".-..\",\"--\",\"-.\",\"---\",\".--.\",\"--.-\",\".-.\",\"...\",\"-\",\"..-\", \"...-\",\".--\",\"-..-\",\"-.--\",\"--..\", '/']\n",
    "        self.alphabets = ['A','B','C','D','E','F','G','H','I','J','K','L','M','N','O','P','Q','R','S','T','U','V','W','X','Y','Z', ' ']\n",
    "        "
   ]
  },
  {
   "cell_type": "code",
   "execution_count": 3,
   "metadata": {},
   "outputs": [],
   "source": [
    "\n",
    "class MorseCode:\n",
    "    def __init__(self, instrument, speed):\n",
    "        print(\"welcome to morse encoder-decoder\")\n",
    "        self.tone = instrument\n",
    "        self.speed = speed\n",
    "        \n",
    "    def dot(self):\n",
    "        winsound.Beep(self.tone*100,self.speed*10)\n",
    "    def dash(self):\n",
    "        winsound.Beep(self.tone*100,self.speed*30)\n",
    "        \n",
    "    def encode(self, text):\n",
    "        text = text.upper()\n",
    "        print (text)\n",
    "        cl = CodesLookup()\n",
    "        code=\"\"\n",
    "        for letter in text:\n",
    "            index = cl.alphabets.index(letter)\n",
    "            add_ch_code = cl.codes[index]\n",
    "            #print (add_ch_code)\n",
    "            code= code + add_ch_code + ' '\n",
    "        print (code)\n",
    "        return (code)\n",
    "        \n",
    "    def decode(self, code):\n",
    "        code = code.split()\n",
    "        print (code)\n",
    "        text = \"\"\n",
    "        cl = CodesLookup()\n",
    "        for element in code:\n",
    "            index = cl.codes.index(element)\n",
    "            add_ch_text = cl.alphabets[index]\n",
    "            text = text + add_ch_text \n",
    "        print (text)\n",
    "        return text\n",
    "\n",
    "    def sing(self, code):\n",
    "        for ch in code:\n",
    "            if (ch == '.'):\n",
    "                self.dot()\n",
    "            elif (ch == '-'):\n",
    "                self.dash()\n",
    "            else:\n",
    "                time.sleep(.5)\n",
    "                \n",
    "        \n"
   ]
  },
  {
   "cell_type": "code",
   "execution_count": 4,
   "metadata": {},
   "outputs": [
    {
     "name": "stdout",
     "output_type": "stream",
     "text": [
      "welcome to morse encoder-decoder\n",
      "NIHARIKA KARIA\n",
      "-. .. .... .- .-. .. -.- .- / -.- .- .-. .. .- \n",
      "['.-', '/', '--.-', '..-', '..', '-.-.', '-.-', '/', '-...', '.-.', '---', '.--', '-.', '/', '..-.', '---', '-..-', '/', '.---', '..-', '--', '.--.', '...', '/', '---', '...-', '.', '.-.', '/', '-', '....', '.', '/', '.-..', '.-', '--..', '-.--', '/', '-..', '---', '--.']\n",
      "A QUICK BROWN FOX JUMPS OVER THE LAZY DOG\n"
     ]
    }
   ],
   "source": [
    "Mo = MorseCode(instrument=7,speed=25)\n",
    "coded = Mo.encode('Niharika Karia')\n",
    "Mo.sing(coded)\n",
    "text = Mo.decode(\".- / --.- ..- .. -.-. -.- / -... .-. --- .-- -. / ..-. --- -..- / .--- ..- -- .--. ... / --- ...- . .-. / - .... . / .-.. .- --.. -.-- / -.. --- --.\")"
   ]
  },
  {
   "cell_type": "code",
   "execution_count": 49,
   "metadata": {},
   "outputs": [],
   "source": []
  },
  {
   "cell_type": "code",
   "execution_count": null,
   "metadata": {},
   "outputs": [],
   "source": []
  }
 ],
 "metadata": {
  "kernelspec": {
   "display_name": "Python [conda root]",
   "language": "python",
   "name": "conda-root-py"
  },
  "language_info": {
   "codemirror_mode": {
    "name": "ipython",
    "version": 3
   },
   "file_extension": ".py",
   "mimetype": "text/x-python",
   "name": "python",
   "nbconvert_exporter": "python",
   "pygments_lexer": "ipython3",
   "version": "3.5.4"
  }
 },
 "nbformat": 4,
 "nbformat_minor": 2
}
