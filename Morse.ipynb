{
 "cells": [
  {
   "cell_type": "code",
   "execution_count": 4,
   "metadata": {},
   "outputs": [],
   "source": [
    "import winsound\n",
    "import time"
   ]
  },
  {
   "cell_type": "code",
   "execution_count": 5,
   "metadata": {},
   "outputs": [
    {
     "name": "stdout",
     "output_type": "stream",
     "text": [
      "hello\n"
     ]
    }
   ],
   "source": [
    "\n",
    "class MorseCode:\n",
    "    def __init__(self):\n",
    "        print(\"\")\n",
    "        \n",
    "    def dot(self):\n",
    "        winsound.Beep(440,200)\n",
    "    def dash(self):\n",
    "        winsound.Beep(440,600)\n",
    "        \n",
    "    def translate(self,char):\n",
    "        if (char=='A' or char=='a'):\n",
    "            mc.dot()\n",
    "            mc.dash()\n",
    "\n",
    "    def encode(text):\n",
    "        print (text)\n",
    "        \n",
    "    def decode(code)\n",
    "        print (code)\n",
    "        \n",
    "        \n",
    "if __name__ == \"__main__\":\n",
    "    print (\"welcome to morse encoder-decoder\")"
   ]
  },
  {
   "cell_type": "code",
   "execution_count": 6,
   "metadata": {},
   "outputs": [],
   "source": [
    "\n",
    "\n",
    "def dot():\n",
    "    winsound.Beep(440,200)\n",
    "\n",
    "def dash():\n",
    "    winsound.Beep(440,600)\n",
    "\n",
    "def a():\n",
    "    dot()\n",
    "    dash()\n",
    "    \n",
    "def h():\n",
    "    dot()\n",
    "    dot()\n",
    "    dot()\n",
    "    dot()\n",
    "\n",
    "def e():\n",
    "    dot()\n",
    "\n",
    "def l():\n",
    "    dot()\n",
    "    dash()\n",
    "    dot()\n",
    "    dot()\n",
    "\n",
    "def o():\n",
    "    dash()\n",
    "    dash()\n",
    "    dash()\n",
    "    \n",
    "h()\n",
    "time.sleep(.5)\n",
    "e()\n",
    "time.sleep(.5)\n",
    "l()\n",
    "time.sleep(.5)\n",
    "l()\n",
    "time.sleep(.5)\n",
    "o()\n",
    "time.sleep(.5)\n"
   ]
  },
  {
   "cell_type": "code",
   "execution_count": null,
   "metadata": {},
   "outputs": [],
   "source": []
  },
  {
   "cell_type": "code",
   "execution_count": null,
   "metadata": {},
   "outputs": [],
   "source": []
  },
  {
   "cell_type": "code",
   "execution_count": null,
   "metadata": {},
   "outputs": [],
   "source": []
  }
 ],
 "metadata": {
  "kernelspec": {
   "display_name": "Python [conda root]",
   "language": "python",
   "name": "conda-root-py"
  },
  "language_info": {
   "codemirror_mode": {
    "name": "ipython",
    "version": 3
   },
   "file_extension": ".py",
   "mimetype": "text/x-python",
   "name": "python",
   "nbconvert_exporter": "python",
   "pygments_lexer": "ipython3",
   "version": "3.5.4"
  }
 },
 "nbformat": 4,
 "nbformat_minor": 2
}
